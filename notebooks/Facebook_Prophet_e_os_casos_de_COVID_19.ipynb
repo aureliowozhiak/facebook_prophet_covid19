{
  "nbformat": 4,
  "nbformat_minor": 0,
  "metadata": {
    "colab": {
      "name": "Facebook Prophet e os casos de COVID-19.ipynb",
      "provenance": [],
      "collapsed_sections": [],
      "authorship_tag": "ABX9TyPPLSNpWMEukotTUjiNmXzt",
      "include_colab_link": true
    },
    "kernelspec": {
      "name": "python3",
      "display_name": "Python 3"
    },
    "language_info": {
      "name": "python"
    }
  },
  "cells": [
    {
      "cell_type": "markdown",
      "metadata": {
        "id": "view-in-github",
        "colab_type": "text"
      },
      "source": [
        "<a href=\"https://colab.research.google.com/github/aureliowozhiak/facebook_prophet_covid19/blob/main/notebooks/Facebook_Prophet_e_os_casos_de_COVID_19.ipynb\" target=\"_parent\"><img src=\"https://colab.research.google.com/assets/colab-badge.svg\" alt=\"Open In Colab\"/></a>"
      ]
    },
    {
      "cell_type": "markdown",
      "metadata": {
        "id": "FinSHBPkhW4E"
      },
      "source": [
        "---\n",
        "\n",
        "<p align=\"center\"><img src=\"https://raw.githubusercontent.com/aureliowozhiak/facebook_prophet_covid19/main/images/prophet_logo.png\" /></p>\n",
        "\n",
        "# Facebook Prophet e os casos de COVID-19\n",
        "\n",
        "## Análisando a série temporal dos casos de Corona Virus no Brasil e criando previsões<sup>*</sup> com o Facebook Prophet\n",
        "\n",
        "<sup><sub>*As previsões criadas aqui pelo Prophet não são exatas pois não mostram de fato o cenário futuro do corona virus, pois os dados utilizados apenas nos dão uma visão, com base no que aconteceu no passado, para termos uma noção de qual poderia ser a tendência de crescimento dos casos, porém, como os dados não exprimem  o cenário completo e não leva em conta campanhas futuras de vacinação, que já estão acontecendo, não devemos levar essas conclusões como se fossem verdades absolutas.</sub></sup>\n"
      ]
    },
    {
      "cell_type": "markdown",
      "metadata": {
        "id": "onf3BPC6rO2J"
      },
      "source": [
        "---\n",
        "## Visão geral do projeto:\n",
        "\n",
        " - Objetivo do projeto\n",
        " - Introdução\n",
        "     - O Brasil em dados libertos\n",
        "     - A pandêmia do COVID-19\n",
        "     - O que é o Facebook Prophet?\n",
        " - Importação de bibliotecas\n",
        " - Origem dos dados e informações técnicas\n",
        " - Carregamento e Processamento dos dados\n",
        " - Análisando a série temporal dos casos de COVID-19 no Brasil\n",
        " - Criando o modelo de previsão\n",
        " - Plotando as previsões com o Prophet<sup>*</sup>\n",
        " - Pesquisa complementar\n",
        " - Conclusão\n",
        " - Referências\n",
        "\n",
        "---\n",
        "### 🎯 Objetivo do projeto\n",
        "\n",
        "A ideia aqui é efetuar algumas analises nos dados referentes ao casos de COVID-19 desde seu primeiro caso aqui no Brasil até o momento e tentar efetuar algumas previsões* utilizando uma ferramenta de open source para forecasting(previsão) do Facebook, o Prophet!\n",
        "\n",
        "---\n",
        "### ⭐ Introdução\n",
        "\n",
        "#### - O Brasil.io\n",
        "\n",
        "O [brasil.io](https://brasil.io/home/) surgiu com o objetivo de disponibilizar dados públicos de forma mais acessível para qualquer pessoa conseguir acessar e fazer uso desses dados.\n",
        "\n",
        "![](https://raw.githubusercontent.com/aureliowozhiak/facebook_prophet_covid19/main/images/brasil.io.png)\n",
        "\n",
        ">Após a criação da Lei de Acesso à Informação, todas as informações produzidas ou custodiadas pelo poder público são públicas e portanto, disponíveis a todos os cidadãos, exceto aquelas que são sigilosas por lei. Contudo, mesmo que a informação esteja disponível não significa que ela está em um formato acessível \n",
        "\n",
        "<sub>adaptado: https://brasil.io/manifesto/ - acesso em: 16/06/2021 </sub>\n",
        "\n",
        "#### - A pandêmia do COVID-19\n",
        "\n",
        "![](https://raw.githubusercontent.com/aureliowozhiak/facebook_prophet_covid19/main/images/SARS-CoV-2_without_background.png)\n",
        "\n",
        ">A pandemia de COVID-19, também conhecida como pandemia de coronavírus, é uma pandemia em curso de COVID-19, uma doença respiratória causada pelo coronavírus da síndrome respiratória aguda grave 2 (SARS-CoV-2). O vírus tem origem zoonótica e o primeiro caso conhecido da doença remonta a dezembro de 2019 em Wuhan, na China. Em 20 de janeiro de 2020, a Organização Mundial da Saúde (OMS) classificou o surto como Emergência de Saúde Pública de Âmbito Internacional e, em 11 de março de 2020, como pandemia. Em 16 de junho de 2021, 176 568 410 casos foram confirmados em 192 países e territórios, com 3 819 480 mortes atribuídas à doença, tornando-se uma das pandemias mais mortais da história.\n",
        "\n",
        "<sub>adaptado: https://pt.wikipedia.org/wiki/Pandemia_de_COVID-19 - acesso em: 16/06/2021 </sub>\n",
        "\n",
        "#### O que é o Facebook Prophet?\n",
        "\n",
        "Em fevereiro de 2017 o Facebook Research lançou a ferramenta open source chamada Facebook Prophet para previsão de séries temporais, ou seja, esse algortimo \"profeta\" do Facebook tem por objetivo principal prever uma tendência no comportamento dos dados com apenas poucos meses de histórico.<br/>\n",
        "Como essa ferramenta, também é possível entender sazonalidades que impactam a série temporal e análisar mudanças bruscas de tendência e outliers\n",
        "\n",
        "Essa ferramenta está [disponível no GitHub](https://github.com/facebook/prophet) para ser utilizada com Python ou R."
      ]
    },
    {
      "cell_type": "code",
      "metadata": {
        "id": "8Qh-p5iUrFi7"
      },
      "source": [
        ""
      ],
      "execution_count": null,
      "outputs": []
    }
  ]
}