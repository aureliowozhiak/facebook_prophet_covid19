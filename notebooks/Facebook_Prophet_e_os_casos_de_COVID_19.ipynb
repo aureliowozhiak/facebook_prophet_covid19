{
  "nbformat": 4,
  "nbformat_minor": 0,
  "metadata": {
    "colab": {
      "name": "Facebook Prophet e os casos de COVID-19.ipynb",
      "provenance": [],
      "collapsed_sections": [],
      "authorship_tag": "ABX9TyO7JTr7N8qHwneR1B6tkY+x",
      "include_colab_link": true
    },
    "kernelspec": {
      "name": "python3",
      "display_name": "Python 3"
    },
    "language_info": {
      "name": "python"
    }
  },
  "cells": [
    {
      "cell_type": "markdown",
      "metadata": {
        "id": "view-in-github",
        "colab_type": "text"
      },
      "source": [
        "<a href=\"https://colab.research.google.com/github/aureliowozhiak/facebook_prophet_covid19/blob/main/notebooks/Facebook_Prophet_e_os_casos_de_COVID_19.ipynb\" target=\"_parent\"><img src=\"https://colab.research.google.com/assets/colab-badge.svg\" alt=\"Open In Colab\"/></a>"
      ]
    },
    {
      "cell_type": "markdown",
      "metadata": {
        "id": "FinSHBPkhW4E"
      },
      "source": [
        "---\n",
        "\n",
        "<p align=\"center\"><img src=\"https://raw.githubusercontent.com/aureliowozhiak/facebook_prophet_covid19/main/images/prophet_logo.png\" /></p>\n",
        "\n",
        "# Facebook Prophet e os casos de COVID-19\n",
        "\n",
        "## Análisando a série temporal dos casos de Corona Virus no Brasil e criando previsões<sup>*</sup> com o Facebook Prophet\n",
        "\n",
        "<sup><sub>*As previsões criadas aqui pelo Prophet não são exatas pois não mostram de fato o cenário futuro do corona virus, pois os dados utilizados apenas nos dão uma visão, com base no que aconteceu no passado, para termos uma noção de qual poderia ser a tendência de crescimento dos casos, porém, como os dados não exprimem  o cenário completo e não leva em conta campanhas futuras de vacinação, que já estão acontecendo, não devemos levar essas conclusões como se fossem verdades absolutas.</sub></sup>\n"
      ]
    },
    {
      "cell_type": "markdown",
      "metadata": {
        "id": "onf3BPC6rO2J"
      },
      "source": [
        "---\n",
        "## Visão geral do projeto:\n",
        "\n",
        " - Objetivo do projeto\n",
        " - Introdução\n",
        "    - O movimento antivacina\n",
        "    - Por que o SUS é importante?\n",
        "        - Programa Nacional de Imunizações (PNI)\n",
        "    - O Brasil em dados libertos\n",
        " - Importação de bibliotecas\n",
        " - Origem dos dados e informações técnicas\n",
        " - Carregamento e Processamento dos dados\n",
        " - Análisando a série temporal dos casos de COVID-19 no Brasil\n",
        " - Criando o modelo de previsão\n",
        " - Plotando as previsões com o Prophet<sup>*</sup>\n",
        " - Pesquisa complementar\n",
        " - Conclusão\n",
        " - Referências"
      ]
    },
    {
      "cell_type": "code",
      "metadata": {
        "id": "8Qh-p5iUrFi7"
      },
      "source": [
        ""
      ],
      "execution_count": null,
      "outputs": []
    }
  ]
}