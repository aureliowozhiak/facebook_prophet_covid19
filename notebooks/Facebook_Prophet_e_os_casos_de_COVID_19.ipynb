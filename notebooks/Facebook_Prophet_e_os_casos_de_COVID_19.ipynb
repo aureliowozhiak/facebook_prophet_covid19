{
  "nbformat": 4,
  "nbformat_minor": 0,
  "metadata": {
    "colab": {
      "name": "Facebook Prophet e os casos de COVID-19.ipynb",
      "provenance": [],
      "collapsed_sections": [],
      "include_colab_link": true
    },
    "kernelspec": {
      "display_name": "Python 3",
      "language": "python",
      "name": "python3"
    },
    "language_info": {
      "codemirror_mode": {
        "name": "ipython",
        "version": 3
      },
      "file_extension": ".py",
      "mimetype": "text/x-python",
      "name": "python",
      "nbconvert_exporter": "python",
      "pygments_lexer": "ipython3",
      "version": "3.8.8"
    }
  },
  "cells": [
    {
      "cell_type": "markdown",
      "metadata": {
        "id": "view-in-github",
        "colab_type": "text"
      },
      "source": [
        "<a href=\"https://colab.research.google.com/github/aureliowozhiak/facebook_prophet_covid19/blob/main/notebooks/Facebook_Prophet_e_os_casos_de_COVID_19.ipynb\" target=\"_parent\"><img src=\"https://colab.research.google.com/assets/colab-badge.svg\" alt=\"Open In Colab\"/></a>"
      ]
    },
    {
      "cell_type": "markdown",
      "metadata": {
        "id": "FinSHBPkhW4E"
      },
      "source": [
        "---\n",
        "\n",
        "<p align=\"center\"><img src=\"https://raw.githubusercontent.com/aureliowozhiak/facebook_prophet_covid19/main/images/prophet_logo.png\" /></p>\n",
        "\n",
        "# Facebook Prophet e os casos de COVID-19\n",
        "\n",
        "## Análisando a série temporal dos casos de Corona Virus em Curitiba-PR e criando previsões<sup>*</sup> com o Facebook Prophet\n",
        "\n",
        "<sup><sub>*As previsões criadas aqui pelo Prophet não são exatas pois não mostram de fato o cenário futuro do corona virus, pois os dados utilizados apenas nos dão uma visão, com base no que aconteceu no passado, para termos uma noção de qual poderia ser a tendência de crescimento dos casos, porém, como os dados não exprimem  o cenário completo e não leva em conta campanhas futuras de vacinação, que já estão acontecendo, não devemos levar essas conclusões como se fossem verdades absolutas.</sub></sup>\n"
      ]
    },
    {
      "cell_type": "markdown",
      "metadata": {
        "id": "onf3BPC6rO2J"
      },
      "source": [
        "---\n",
        "## Visão geral do projeto:\n",
        "\n",
        " - Objetivo do projeto\n",
        " - Introdução\n",
        "     - O Brasil em dados libertos\n",
        "     - A pandêmia do COVID-19\n",
        "     - O que é o Facebook Prophet?\n",
        " - Origem dos dados e informações técnicas\n",
        " - Importação de bibliotecas\n",
        " - Carregamento e Processamento dos dados\n",
        " - Análisando a série temporal dos casos de COVID-19 em Curitiba-PR\n",
        " - Criando o modelo de previsão\n",
        " - Plotando as previsões com o Prophet<sup>*</sup>\n",
        " - Pesquisa complementar\n",
        " - Conclusão\n",
        " - Referências\n",
        "\n",
        "---\n",
        "### 🎯 Objetivo do projeto\n",
        "\n",
        "A ideia aqui é efetuar algumas analises nos dados referentes ao casos de COVID-19 desde seu primeiro caso aqui no Brasil até o momento e tentar efetuar algumas previsões* utilizando uma ferramenta de open source para forecasting(previsão) do Facebook, o Prophet!\n",
        "\n",
        "---\n",
        "### ⭐ Introdução\n",
        "\n",
        "#### - O Brasil.io\n",
        "\n",
        "O [brasil.io](https://brasil.io/home/) surgiu com o objetivo de disponibilizar dados públicos de forma mais acessível para qualquer pessoa conseguir acessar e fazer uso desses dados.\n",
        "\n",
        "![](https://raw.githubusercontent.com/aureliowozhiak/facebook_prophet_covid19/main/images/brasil.io.png)\n",
        "\n",
        ">Após a criação da Lei de Acesso à Informação, todas as informações produzidas ou custodiadas pelo poder público são públicas e portanto, disponíveis a todos os cidadãos, exceto aquelas que são sigilosas por lei. Contudo, mesmo que a informação esteja disponível não significa que ela está em um formato acessível \n",
        "\n",
        "<sub>adaptado: https://brasil.io/manifesto/ - acesso em: 16/06/2021 </sub>\n",
        "\n",
        "#### - A pandêmia do COVID-19\n",
        "\n",
        "![](https://raw.githubusercontent.com/aureliowozhiak/facebook_prophet_covid19/main/images/SARS-CoV-2_without_background.png)\n",
        "\n",
        ">A pandemia de COVID-19, também conhecida como pandemia de coronavírus, é uma pandemia em curso de COVID-19, uma doença respiratória causada pelo coronavírus da síndrome respiratória aguda grave 2 (SARS-CoV-2). O vírus tem origem zoonótica e o primeiro caso conhecido da doença remonta a dezembro de 2019 em Wuhan, na China. Em 20 de janeiro de 2020, a Organização Mundial da Saúde (OMS) classificou o surto como Emergência de Saúde Pública de Âmbito Internacional e, em 11 de março de 2020, como pandemia. Em 16 de junho de 2021, 176 568 410 casos foram confirmados em 192 países e territórios, com 3 819 480 mortes atribuídas à doença, tornando-se uma das pandemias mais mortais da história.\n",
        "\n",
        "<sub>adaptado: https://pt.wikipedia.org/wiki/Pandemia_de_COVID-19 - acesso em: 16/06/2021 </sub>\n",
        "\n",
        "#### O que é o Facebook Prophet?\n",
        "\n",
        "Em fevereiro de 2017 o Facebook Research lançou a ferramenta open source chamada [Facebook Prophet](https://facebook.github.io/prophet/) para previsão de séries temporais, ou seja, esse algortimo \"profeta\" do Facebook tem por objetivo principal prever uma tendência no comportamento dos dados com apenas poucos meses de histórico.<br/>\n",
        "Como essa ferramenta, também é possível entender sazonalidades que impactam a série temporal e análisar mudanças bruscas de tendência e outliers\n",
        "\n",
        "Essa ferramenta está [disponível no GitHub](https://github.com/facebook/prophet) para ser utilizada com Python ou R."
      ]
    },
    {
      "cell_type": "markdown",
      "metadata": {
        "id": "CbpA0C2syOdN"
      },
      "source": [
        "---\n",
        "#### 📚 Importação de bibliotecas\n",
        "\n",
        "Nessa seção é feita a importação de todas bibliotecas utilizadas no notebook.\n",
        "\n",
        "<sub>Nota: aglumas bibliotecas são importadas apenas dentro do arquivo funcoes.py, pois não são utilizadas diretamente aqui no notebook, apenas de forma indireta pelas chamadas das funções.</sub>"
      ]
    },
    {
      "cell_type": "code",
      "metadata": {
        "id": "ljktQ608yVxM",
        "outputId": "b016f3a4-48cc-4803-f51d-77767e1aa55e",
        "colab": {
          "base_uri": "https://localhost:8080/"
        }
      },
      "source": [
        "#Instalação do wget para efetuar o download do arquivo funcoes.py que é responsável pela definição das funções usadas no projeto\n",
        "!pip install wget\n",
        "import wget\n",
        "wget.download('https://raw.githubusercontent.com/aureliowozhiak/facebook_prophet_covid19/main/notebooks/funcoes.py')\n",
        "\n",
        "#Importando as funções que serão chamadas no notebook\n",
        "from funcoes import processamento_dados\n",
        "from funcoes import grafico_linha\n",
        "\n",
        "#Ignorando 'warning' desnecessários\n",
        "import warnings\n",
        "warnings.filterwarnings(\"ignore\")\n",
        "\n",
        "#Importando outras bibliotecas usadas no notebook\n",
        "import pandas as pd"
      ],
      "execution_count": 9,
      "outputs": [
        {
          "output_type": "stream",
          "text": [
            "Requirement already satisfied: wget in /usr/local/lib/python3.7/dist-packages (3.2)\n"
          ],
          "name": "stdout"
        }
      ]
    },
    {
      "cell_type": "markdown",
      "metadata": {
        "id": "T20hkRNcylp0"
      },
      "source": [
        "---\n",
        "#### 📝 Origem dos dados e informações técnicas\n",
        "\n",
        "Os dados utilizados foram baixados do [brasil.io](https://brasil.io/home) > [COVID-19](https://brasil.io/covid19/) > [Dados completos](https://brasil.io/dataset/covid19/caso_full/)<br />\n",
        "<sub>link direto para download: [https://data.brasil.io/dataset/covid19/caso_full.csv.gz](https://data.brasil.io/dataset/covid19/caso_full.csv.gz)</sub><br/><br/>\n",
        "\n",
        "\n",
        "\n",
        "Após acessar e efetuar o download do dataset completo, efetuei uma cópia e salvei no repositório do GitHub em \"datasets/caso_full.csv.gz\"<br/>\n",
        "<sub>cópia salva no repositório dia: 16/06/2021: [https://github.com/aureliowozhiak/facebook_prophet_covid19/blob/main/datasets/caso_full.csv.gz](https://github.com/aureliowozhiak/facebook_prophet_covid19/blob/main/datasets/caso_full.csv.gz) </sub>\n",
        "\n",
        "\n",
        "O dataset original contém várias colunas com os valores: \n",
        "\n",
        "> 'city', 'city_ibge_code', 'date', 'epidemiological_week', 'estimated_population', 'estimated_population_2019', 'is_last', 'is_repeated', 'last_available_confirmed', 'last_available_confirmed_per_100k_inhabitants', 'last_available_date', 'last_available_death_rate', 'last_available_deaths', 'order_for_place', 'place_type', 'state', 'new_confirmed', 'new_deaths'\n",
        "\n",
        "Porém, aqui vamos utilizar apenas os seguintes:\n",
        "\n",
        "- **city**: nome da cidade\n",
        "- **state**: nome do estado\n",
        "- **date**: data do registro\n",
        "- **estimated_population**: população estimada da cidade\n",
        "- **new_confirmed**: novos casos confirmados\n",
        "- **last_available_confirmed**: total acumulado de casos confirmados até a data\n",
        "- **new_deaths**: novas mortes confirmadas\n",
        "- **last_available_deaths**: total acumulado de mortes confirmadas até a data\n",
        "\n",
        "---\n",
        "\n",
        "#### 👨‍💻 Carregamento e Processamento dos dados\n",
        "\n",
        "Todo carregamento, processamento e organização dos dados foram feitos no arquivo [funcoes.py](https://github.com/aureliowozhiak/facebook_prophet_covid19/blob/main/notebooks/funcoes.py) "
      ]
    },
    {
      "cell_type": "code",
      "metadata": {
        "id": "qpSmmZ_XCm-_"
      },
      "source": [
        "#carregando nossos dataframes já processados e organizados\n",
        "df_casos_full, df_casos_full_reduced, df_casos_sul, df_casos_parana, df_casos_rmc, df_casos_cwb, rmc_top_cities, df_rmc_top_cities = processamento_dados()"
      ],
      "execution_count": 7,
      "outputs": []
    }
  ]
}